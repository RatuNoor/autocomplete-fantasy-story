{
 "cells": [
  {
   "cell_type": "code",
   "execution_count": 2,
   "metadata": {},
   "outputs": [
    {
     "name": "stdout",
     "output_type": "stream",
     "text": [
      "Merged content written to 'fantasy-cleaned.txt'\n"
     ]
    }
   ],
   "source": [
    "import os\n",
    "\n",
    "# Get the current directory\n",
    "current_directory = os.getcwd()\n",
    "\n",
    "# Initialize an empty list to store the contents of .txt files\n",
    "txt_file_contents = []\n",
    "\n",
    "# Loop through all files in the directory\n",
    "for filename in os.listdir(current_directory):\n",
    "    if filename.endswith(\".txt\"):\n",
    "        with open(filename, \"r\", encoding=\"utf-8\", errors=\"ignore\") as file:\n",
    "            # Read the contents of the .txt file and append it to the list\n",
    "            txt_file_contents.append(file.read())\n",
    "\n",
    "# Check if there are any .txt files in the directory\n",
    "if txt_file_contents:\n",
    "    # Join the contents of all .txt files with a newline character\n",
    "    merged_content = \"\\n\".join(txt_file_contents)\n",
    "\n",
    "    # Write the merged content to 'fantasy-cleaned.txt'\n",
    "    with open(\"fantasy-cleaned.txt\", \"w\", encoding=\"utf-8\") as output_file:\n",
    "        output_file.write(merged_content)\n",
    "    print(\"Merged content written to 'fantasy-cleaned.txt'\")\n",
    "else:\n",
    "    print(\"No .txt files found in the directory.\")\n"
   ]
  },
  {
   "cell_type": "markdown",
   "metadata": {},
   "source": [
    "further cleaning the data"
   ]
  },
  {
   "cell_type": "code",
   "execution_count": 28,
   "metadata": {},
   "outputs": [
    {
     "name": "stdout",
     "output_type": "stream",
     "text": [
      "Jumlah baris yang berhasil dihapus: 1696\n"
     ]
    }
   ],
   "source": [
    "import re\n",
    "\n",
    "# Fungsi untuk memeriksa apakah sebuah baris memenuhi salah satu dari kriteria yang harus dihapus\n",
    "def should_delete_line(line):\n",
    "    patterns_to_delete = [\n",
    "        r'^CHAPTER\\s+([IVXLCDM]+|\\d+)\\b',            # Kriteria 1\n",
    "        r'^BOOK\\s+([IVXLCDM]+|\\d+)\\b',               # Kriteria 2\n",
    "        r'^PART\\s+([IVXLCDM]+|\\d+)\\b',               # Kriteria 3\n",
    "        r'^CHAPTER\\s+([IVXLCDM]+|\\d+)\\s*:\\s*.+',   # Kriteria 4\n",
    "        r'^BOOK\\s+([IVXLCDM]+|\\d+)\\s*:\\s*.+',      # Kriteria 5\n",
    "        r'^PART\\s+([IVXLCDM]+|\\d+)\\s*:\\s*.+',      # Kriteria 6\n",
    "        r'^(?!I\\b)[IVXLCDM]+\\b'                    # Kriteria 7 (Updated to exclude lines starting with 'I')\n",
    "    ]\n",
    "    for pattern in patterns_to_delete:\n",
    "        if re.match(pattern, line, re.IGNORECASE):\n",
    "            return True\n",
    "    return False\n",
    "\n",
    "# Membuka file input dan file output dalam mode biner\n",
    "with open('data.txt', 'rb') as input_file, open('preprocessed_data.txt', 'w', encoding='utf-8') as output_file, open('trash.txt', 'w', encoding='utf-8') as trash_file:\n",
    "    lines = input_file.readlines()\n",
    "    deleted_count = 0\n",
    "\n",
    "    # Memproses setiap baris\n",
    "    for line in lines:\n",
    "        # Mendekode baris menggunakan encoding utf-8\n",
    "        decoded_line = line.decode('utf-8', errors='ignore')\n",
    "\n",
    "        # Menghapus semua simbol (_) dan (*) dari baris\n",
    "        decoded_line = re.sub(r'[_*]', '', decoded_line)\n",
    "\n",
    "        # Memeriksa apakah baris harus dihapus\n",
    "        if should_delete_line(decoded_line):\n",
    "            deleted_count += 1\n",
    "            # Menyimpan baris yang akan dihapus ke file 'trash.txt'\n",
    "            trash_file.write(decoded_line)\n",
    "        else:\n",
    "            # Menyimpan baris yang tidak perlu dihapus ke file 'preprocessed_data.txt'\n",
    "            output_file.write(decoded_line)\n",
    "\n",
    "print(f\"Jumlah baris yang berhasil dihapus: {deleted_count}\")\n"
   ]
  },
  {
   "cell_type": "code",
   "execution_count": 30,
   "metadata": {},
   "outputs": [
    {
     "name": "stdout",
     "output_type": "stream",
     "text": [
      "Cleaning complete. Result saved in 'data_final.txt'.\n"
     ]
    }
   ],
   "source": [
    "# further delete newline, prologe, epilogue\n",
    "\n",
    "\n",
    "# Open the input file 'preprocessed_data.txt' and create an output file 'data_final.txt'\n",
    "with open('preprocessed_data.txt', 'r', encoding='utf-8') as input_file, open('data_final.txt', 'w', encoding='utf-8') as output_file:\n",
    "    # Iterate through each line in the input file\n",
    "    for line in input_file:\n",
    "        # Check if the line contains 'PROLOGUE', 'EPILOGUE', 'Prologue', 'Epilogue', is an empty line, or contains underscores ('_')\n",
    "        if not any(keyword in line.strip().lower() for keyword in ['prologue', 'epilogue']) and line.strip() and '_' not in line:\n",
    "            # If the line does not contain any of the keywords, is not empty, and does not contain underscores ('_'), write it to the output file\n",
    "            output_file.write(line)\n",
    "\n",
    "print(\"Cleaning complete. Result saved in 'data_final.txt'.\")\n",
    "\n"
   ]
  },
  {
   "cell_type": "code",
   "execution_count": null,
   "metadata": {},
   "outputs": [],
   "source": []
  }
 ],
 "metadata": {
  "kernelspec": {
   "display_name": "Python 3",
   "language": "python",
   "name": "python3"
  },
  "language_info": {
   "codemirror_mode": {
    "name": "ipython",
    "version": 3
   },
   "file_extension": ".py",
   "mimetype": "text/x-python",
   "name": "python",
   "nbconvert_exporter": "python",
   "pygments_lexer": "ipython3",
   "version": "3.9.13"
  },
  "orig_nbformat": 4
 },
 "nbformat": 4,
 "nbformat_minor": 2
}
